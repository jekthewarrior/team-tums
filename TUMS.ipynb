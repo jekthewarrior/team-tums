{
 "cells": [
  {
   "cell_type": "code",
   "execution_count": 1,
   "metadata": {
    "ExecuteTime": {
     "end_time": "2021-12-15T01:50:08.213966Z",
     "start_time": "2021-12-15T01:50:04.728098Z"
    }
   },
   "outputs": [],
   "source": [
    "import numpy as np\n",
    "import pandas as pd\n",
    "from pathlib import Path\n",
    "import torchvision\n",
    "import torchvision.transforms as transforms\n",
    "import random\n",
    "import matplotlib.pyplot as plt\n",
    "%matplotlib inline\n",
    "import torch"
   ]
  },
  {
   "cell_type": "code",
   "execution_count": 2,
   "metadata": {
    "ExecuteTime": {
     "end_time": "2021-12-15T01:50:13.102504Z",
     "start_time": "2021-12-15T01:50:09.024743Z"
    }
   },
   "outputs": [],
   "source": [
    "# load in train and test\n",
    "train_data_csv = pd.read_csv(\"./data/sign_mnist_train.csv\")\n",
    "test_data_csv = pd.read_csv(\"./data/sign_mnist_test.csv\")"
   ]
  },
  {
   "cell_type": "code",
   "execution_count": 3,
   "metadata": {
    "ExecuteTime": {
     "end_time": "2021-12-15T01:50:13.227985Z",
     "start_time": "2021-12-15T01:50:13.105302Z"
    }
   },
   "outputs": [],
   "source": [
    "# convert data to np arrays \n",
    "train_data = np.array(train_data_csv, dtype=\"float32\")\n",
    "test_data = np.array(test_data_csv, dtype=\"float32\")"
   ]
  },
  {
   "cell_type": "code",
   "execution_count": 4,
   "metadata": {
    "ExecuteTime": {
     "end_time": "2021-12-15T01:50:13.243940Z",
     "start_time": "2021-12-15T01:50:13.229980Z"
    }
   },
   "outputs": [
    {
     "name": "stdout",
     "output_type": "stream",
     "text": [
      "(27455, 785)\n",
      "(7172, 785)\n"
     ]
    }
   ],
   "source": [
    "# 27k training cases; 7k test cases\n",
    "print(train_data.shape)\n",
    "print(test_data.shape)"
   ]
  },
  {
   "cell_type": "code",
   "execution_count": 5,
   "metadata": {
    "ExecuteTime": {
     "end_time": "2021-12-15T01:50:15.342287Z",
     "start_time": "2021-12-15T01:50:15.310080Z"
    }
   },
   "outputs": [],
   "source": [
    "# Split data into input image data and the label, convert to a Tensor, and create a TensorDataset for each set\n",
    "train_tensor_set = torch.utils.data.TensorDataset(torch.Tensor(train_data[:, 1:].reshape(27455, 1, 28, 28)), torch.Tensor(train_data[:, 0]))\n",
    "test_tensor_set = torch.utils.data.TensorDataset(torch.Tensor(test_data[:, 1:].reshape(7172, 1, 28, 28)), torch.Tensor(test_data[:, 0]))"
   ]
  },
  {
   "cell_type": "code",
   "execution_count": 6,
   "metadata": {
    "ExecuteTime": {
     "end_time": "2021-12-15T01:50:17.657269Z",
     "start_time": "2021-12-15T01:50:17.648295Z"
    }
   },
   "outputs": [],
   "source": [
    "# Include J and Z technically, but there won't be any data associated with them\n",
    "classes =  ['A', 'B', 'C', 'D', 'E', 'F', 'G', 'H', 'I', 'J', 'K', 'L', 'M', 'N', 'O', 'P', 'Q', 'R', 'S', 'T', 'U', 'V', 'W', 'X', 'Y'] # not including the last letter for reduced computation. Not going to remove J for continuity in the indices, however"
   ]
  },
  {
   "cell_type": "code",
   "execution_count": 7,
   "metadata": {
    "ExecuteTime": {
     "end_time": "2021-12-15T01:50:18.473077Z",
     "start_time": "2021-12-15T01:50:18.223259Z"
    }
   },
   "outputs": [
    {
     "name": "stdout",
     "output_type": "stream",
     "text": [
      "Label:  Y\n"
     ]
    },
    {
     "data": {
      "image/png": "[encoded data removed]",
      "text/plain": [
       "<Figure size 360x360 with 1 Axes>"
      ]
     },
     "metadata": {
      "needs_background": "light"
     },
     "output_type": "display_data"
    }
   ],
   "source": [
    "# Sample image display\n",
    "num = random.randint(1, train_data.shape[0])\n",
    "fig, ax = plt.subplots(figsize=(5, 5))\n",
    "plt.imshow(train_data[num, 1:].reshape((28, 28)))\n",
    "print(\"Label: \", classes[int(train_data[num, 0])])"
   ]
  },
  {
   "cell_type": "code",
   "execution_count": 8,
   "metadata": {
    "ExecuteTime": {
     "end_time": "2021-12-15T01:50:19.584240Z",
     "start_time": "2021-12-15T01:50:19.248033Z"
    }
   },
   "outputs": [
    {
     "data": {
      "text/plain": [
       "Text(0.5, 1.0, 'Label Distributions')"
      ]
     },
     "execution_count": 8,
     "metadata": {},
     "output_type": "execute_result"
    },
    {
     "data": {
      "image/png": "[encoded data removed]",
      "text/plain": [
       "<Figure size 1152x1152 with 1 Axes>"
      ]
     },
     "metadata": {
      "needs_background": "light"
     },
     "output_type": "display_data"
    }
   ],
   "source": [
    "# Let's try something cool with the data\n",
    "fig = plt.figure(figsize = (16, 16))\n",
    "ax1 = fig.add_subplot(221)\n",
    "train_data_csv['label'].value_counts().plot(kind='bar', ax=ax1)\n",
    "# DISTRIBUTIONS of labels, look at x-axis for label indices\n",
    "ax1.set_ylabel('Count')\n",
    "ax1.set_title(\"Label Distributions\")"
   ]
  },
  {
   "cell_type": "code",
   "execution_count": 9,
   "metadata": {
    "ExecuteTime": {
     "end_time": "2021-12-15T01:50:22.457815Z",
     "start_time": "2021-12-15T01:50:22.434875Z"
    }
   },
   "outputs": [],
   "source": [
    "# TODO Recalculate our means and standard deviations for the channels of our images, if necessary\n",
    "mnist_transform = transforms.Compose([\n",
    "    transforms.ToTensor(),\n",
    "    transforms.Normalize((0.5,0.5,0.5), (0.5, 0.5, 0.5))\n",
    "])\n",
    "# first set is for means, second is for standard deviations. Im pretty sure we have to calculate them, but let's see if it works okay without lol"
   ]
  },
  {
   "cell_type": "code",
   "execution_count": 10,
   "metadata": {
    "ExecuteTime": {
     "end_time": "2021-12-15T01:50:23.053218Z",
     "start_time": "2021-12-15T01:50:23.047198Z"
    }
   },
   "outputs": [],
   "source": [
    "batch_size = 4 # Keep for now\n",
    "\n",
    "# Creates an iterable for training dataset\n",
    "trainloader = torch.utils.data.DataLoader(train_tensor_set, batch_size=batch_size, shuffle=True, num_workers=2)\n",
    "\n",
    "# Creates an iterable for testing dataset\n",
    "testloader = torch.utils.data.DataLoader(test_tensor_set, batch_size=batch_size, shuffle=False, num_workers=2)"
   ]
  },
  {
   "cell_type": "code",
   "execution_count": 11,
   "metadata": {
    "ExecuteTime": {
     "end_time": "2021-12-15T01:50:25.205667Z",
     "start_time": "2021-12-15T01:50:25.159536Z"
    }
   },
   "outputs": [],
   "source": [
    "import torch.nn as nn\n",
    "import torch.nn.functional as F\n",
    "class Net(nn.Module):\n",
    "    def __init__(self):\n",
    "        super().__init__()\n",
    "        # This is where a lot of the design process will happen since we have to decide layers and such\n",
    "        # The current values need to be adjusted; we don't have to immediately go for the most complex one, we should just try to get the program running\n",
    "        # with a simple model before we try to make it more complex.\n",
    "        self.conv1 = nn.Conv2d(1, 6, 5) # The first value is the number of input channels (1, since we are using greyscale images)\n",
    "        self.pool = nn.MaxPool2d(2, 2)\n",
    "        self.conv2 = nn.Conv2d(6, 16, 5)\n",
    "        self.fc1 = nn.Linear(256, 120) # TODO Research transition from Conv2D to Linear layers\n",
    "        self.fc2 = nn.Linear(120, 84) \n",
    "        self.fc3 = nn.Linear(84, len(classes)) # the last int here has to be equal to the number of classes we are classifying for\n",
    "    # Onwards!\n",
    "    def forward(self, x):\n",
    "        x = self.pool(F.relu(self.conv1(x)))\n",
    "        x = self.pool(F.relu(self.conv2(x)))\n",
    "        x = torch.flatten(x, 1)\n",
    "        x = F.relu(self.fc1(x))\n",
    "        x = F.relu(self.fc2(x))\n",
    "        x = self.fc3(x)\n",
    "        return x\n",
    "net = Net()"
   ]
  },
  {
   "cell_type": "code",
   "execution_count": 12,
   "metadata": {
    "ExecuteTime": {
     "end_time": "2021-12-15T01:50:25.896598Z",
     "start_time": "2021-12-15T01:50:25.884636Z"
    }
   },
   "outputs": [],
   "source": [
    "# ONWARDS!\n",
    "# Initialize optimizer and loss function\n",
    "import torch.optim as optim\n",
    "\n",
    "criterion = nn.CrossEntropyLoss()\n",
    "optimizer = optim.SGD(net.parameters(), lr=0.001, momentum=0.9)"
   ]
  },
  {
   "cell_type": "code",
   "execution_count": 14,
   "metadata": {
    "ExecuteTime": {
     "end_time": "2021-12-15T02:18:18.092727Z",
     "start_time": "2021-12-15T02:12:55.469261Z"
    }
   },
   "outputs": [
    {
     "name": "stdout",
     "output_type": "stream",
     "text": [
      "[1,  2000] loss: 3.181\n",
      "[1,  4000] loss: 3.182\n",
      "[1,  6000] loss: 3.179\n",
      "[2,  2000] loss: 3.185\n",
      "[2,  4000] loss: 3.184\n",
      "[2,  6000] loss: 3.182\n",
      "[3,  2000] loss: 3.180\n",
      "[3,  4000] loss: 3.183\n",
      "[3,  6000] loss: 3.180\n",
      "[4,  2000] loss: 3.180\n",
      "[4,  4000] loss: 3.180\n",
      "[4,  6000] loss: 3.179\n",
      "[5,  2000] loss: 3.179\n",
      "[5,  4000] loss: 3.179\n",
      "[5,  6000] loss: 3.179\n",
      "Ready for Tums!\n"
     ]
    }
   ],
   "source": [
    "for epoch in range(5):\n",
    "    running_loss = 0.0\n",
    "    for i, data in enumerate(trainloader, 0):\n",
    "        # get the inputs; data is a list of [inputs, labels]\n",
    "        inputs, labels = data \n",
    "        # zero the parameter gradients\n",
    "        optimizer.zero_grad()\n",
    "        # forward + backward + optimize\n",
    "        outputs = net(inputs)\n",
    "        # compute loss\n",
    "        loss = criterion(outputs,labels.long())\n",
    "        # compute gradients\n",
    "        loss.backward()\n",
    "        # Perform gradient descent step to modify parameters\n",
    "        optimizer.step()\n",
    "\n",
    "        # print statistics\n",
    "        running_loss += loss.item()\n",
    "        if i % 2000 == 1999: # print every 2000 mini-batches\n",
    "            print('[%d, %5d] loss: %.3f' % (epoch + 1, i + 1, running_loss / 2000))\n",
    "            running_loss = 0.0\n",
    "\n",
    "print('Ready for Tums!')"
   ]
  },
  {
   "cell_type": "code",
   "execution_count": null,
   "metadata": {},
   "outputs": [],
   "source": [
    "# Save the weights if they are looking good\n",
    "PATH = './tums_net.pth'\n",
    "torch.save(net.state_dict(), PATH)"
   ]
  }
 ],
 "metadata": {
  "interpreter": {
   "hash": "c0e4fcc3d75181d5baff9ac549e5c058ea351c3777f91bd28d8788ba40aecc8b"
  },
  "kernelspec": {
   "display_name": "Python [conda env:team-tums]",
   "language": "python",
   "name": "conda-env-team-tums-py"
  },
  "language_info": {
   "codemirror_mode": {
    "name": "ipython",
    "version": 3
   },
   "file_extension": ".py",
   "mimetype": "text/x-python",
   "name": "python",
   "nbconvert_exporter": "python",
   "pygments_lexer": "ipython3",
   "version": "3.9.7"
  },
  "latex_envs": {
   "LaTeX_envs_menu_present": true,
   "autoclose": false,
   "autocomplete": true,
   "bibliofile": "biblio.bib",
   "cite_by": "apalike",
   "current_citInitial": 1,
   "eqLabelWithNumbers": true,
   "eqNumInitial": 1,
   "hotkeys": {
    "equation": "Ctrl-E",
    "itemize": "Ctrl-I"
   },
   "labels_anchors": false,
   "latex_user_defs": false,
   "report_style_numbering": false,
   "user_envs_cfg": false
  }
 },
 "nbformat": 4,
 "nbformat_minor": 2
}
